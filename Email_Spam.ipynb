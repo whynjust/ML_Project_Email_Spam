{
 "cells": [
  {
   "cell_type": "code",
   "execution_count": 480,
   "metadata": {
    "collapsed": true
   },
   "outputs": [],
   "source": [
    "import numpy as np\n",
    "import matplotlib\n",
    "import matplotlib.pyplot as plt\n",
    "import pandas as pd\n",
    "from sklearn import linear_model, preprocessing"
   ]
  },
  {
   "cell_type": "markdown",
   "metadata": {},
   "source": [
    "Read the data from spambase.data file, downloaded from UCI data set website. Print out first 6 rows."
   ]
  },
  {
   "cell_type": "code",
   "execution_count": 481,
   "metadata": {},
   "outputs": [
    {
     "name": "stdout",
     "output_type": "stream",
     "text": [
      "   word_freq_make  word_freq_address  word_freq_all  word_freq_3d  \\\n",
      "0            0.00               0.64           0.64           0.0   \n",
      "1            0.21               0.28           0.50           0.0   \n",
      "2            0.06               0.00           0.71           0.0   \n",
      "3            0.00               0.00           0.00           0.0   \n",
      "4            0.00               0.00           0.00           0.0   \n",
      "5            0.00               0.00           0.00           0.0   \n",
      "\n",
      "   word_freq_our  word_freq_over  word_freq_remove  word_freq_internet  \\\n",
      "0           0.32            0.00              0.00                0.00   \n",
      "1           0.14            0.28              0.21                0.07   \n",
      "2           1.23            0.19              0.19                0.12   \n",
      "3           0.63            0.00              0.31                0.63   \n",
      "4           0.63            0.00              0.31                0.63   \n",
      "5           1.85            0.00              0.00                1.85   \n",
      "\n",
      "   word_freq_order  word_freq_mail  ...   char_freq_;  char_freq_(  \\\n",
      "0             0.00            0.00  ...          0.00        0.000   \n",
      "1             0.00            0.94  ...          0.00        0.132   \n",
      "2             0.64            0.25  ...          0.01        0.143   \n",
      "3             0.31            0.63  ...          0.00        0.137   \n",
      "4             0.31            0.63  ...          0.00        0.135   \n",
      "5             0.00            0.00  ...          0.00        0.223   \n",
      "\n",
      "   char_freq_[  char_freq_!  char_freq_$  char_freq_#  \\\n",
      "0          0.0        0.778        0.000        0.000   \n",
      "1          0.0        0.372        0.180        0.048   \n",
      "2          0.0        0.276        0.184        0.010   \n",
      "3          0.0        0.137        0.000        0.000   \n",
      "4          0.0        0.135        0.000        0.000   \n",
      "5          0.0        0.000        0.000        0.000   \n",
      "\n",
      "   capital_run_length_average  capital_run_length_longest  \\\n",
      "0                       3.756                          61   \n",
      "1                       5.114                         101   \n",
      "2                       9.821                         485   \n",
      "3                       3.537                          40   \n",
      "4                       3.537                          40   \n",
      "5                       3.000                          15   \n",
      "\n",
      "   capital_run_length_total  spam  \n",
      "0                       278     1  \n",
      "1                      1028     1  \n",
      "2                      2259     1  \n",
      "3                       191     1  \n",
      "4                       191     1  \n",
      "5                        54     1  \n",
      "\n",
      "[6 rows x 58 columns]\n"
     ]
    },
    {
     "data": {
      "text/plain": [
       "(4601, 58)"
      ]
     },
     "execution_count": 481,
     "metadata": {},
     "output_type": "execute_result"
    }
   ],
   "source": [
    "df = pd.read_csv('spambase.data', sep = ',', header = None)\n",
    "df.columns = [\"word_freq_make\", \"word_freq_address\", \"word_freq_all\", \"word_freq_3d\", \"word_freq_our\", \"word_freq_over\", \"word_freq_remove\", \"word_freq_internet\", \"word_freq_order\", \"word_freq_mail\", \"word_freq_receive\", \"word_freq_will\", \"word_freq_people\", \"word_freq_report\", \"word_freq_addresses\", \"word_freq_free\", \"word_freq_business\", \"word_freq_email\", \"word_freq_you\", \"word_freq_credit\", \"word_freq_your\", \"word_freq_font\", \"word_freq_000\", \"word_freq_money\", \"word_freq_hp\", \"word_freq_hpl\", \"word_freq_george\", \"word_freq_650\", \"word_freq_lab\", \"word_freq_labs\", \"word_freq_telnet\", \"word_freq_857\", \"word_freq_data\", \"word_freq_415\", \"word_freq_85\", \"word_freq_technology\", \"word_freq_1999\", \"word_freq_parts\", \"word_freq_pm\", \"word_freq_direct\", \"word_freq_cs\", \"word_freq_meeting\", \"word_freq_original\", \"word_freq_project\", \"word_freq_re\", \"word_freq_edu\", \"word_freq_table\", \"word_freq_conference\", \"char_freq_;\", \"char_freq_(\", \"char_freq_[\", \"char_freq_!\", \"char_freq_$\", \"char_freq_#\", \"capital_run_length_average\", \"capital_run_length_longest\", \"capital_run_length_total\", \"spam\"]\n",
    "print(df.head(6))\n",
    "df.shape"
   ]
  },
  {
   "cell_type": "markdown",
   "metadata": {},
   "source": [
    "# 1. Using classic Naive Bayes Spam Filter"
   ]
  },
  {
   "cell_type": "markdown",
   "metadata": {},
   "source": [
    "Importing Multinomial model naive bayes spam filter."
   ]
  },
  {
   "cell_type": "code",
   "execution_count": 482,
   "metadata": {
    "collapsed": true
   },
   "outputs": [],
   "source": [
    "from sklearn.naive_bayes import MultinomialNB\n",
    "model = MultinomialNB()"
   ]
  },
  {
   "cell_type": "markdown",
   "metadata": {},
   "source": [
    "Divide data into two parts, 3500 train data and 1101 test data."
   ]
  },
  {
   "cell_type": "code",
   "execution_count": 483,
   "metadata": {},
   "outputs": [],
   "source": [
    "data = np.array(df.iloc[0:,:58])\n",
    "np.random.shuffle(data)\n",
    "nTrain = 3500\n",
    "nTest = 1101\n",
    "dataTrain = data[0:nTrain, :]\n",
    "dataTest = data[nTrain+1:nTrain+nTest, :]"
   ]
  },
  {
   "cell_type": "markdown",
   "metadata": {},
   "source": [
    "For naive bayes spam filter, it only uses the frequency of each word shown up in the email content. So we only use first 54 columns as our Xtrain. "
   ]
  },
  {
   "cell_type": "code",
   "execution_count": 484,
   "metadata": {},
   "outputs": [],
   "source": [
    "Xtrain = dataTrain[:, 0:54]\n",
    "ytrain = dataTrain[:, 57]\n",
    "Xtest = dataTest[:, 0:54]\n",
    "ytest = dataTest[:, 57]"
   ]
  },
  {
   "cell_type": "markdown",
   "metadata": {},
   "source": [
    "Fit in the data and predict it by Xtest."
   ]
  },
  {
   "cell_type": "code",
   "execution_count": 485,
   "metadata": {},
   "outputs": [],
   "source": [
    "model.fit(Xtrain, ytrain)\n",
    "ypredicted = model.predict(Xtest)"
   ]
  },
  {
   "cell_type": "markdown",
   "metadata": {},
   "source": [
    "Here is the accuracy of prediction."
   ]
  },
  {
   "cell_type": "code",
   "execution_count": 486,
   "metadata": {},
   "outputs": [
    {
     "data": {
      "text/plain": [
       "0.88090909090909086"
      ]
     },
     "execution_count": 486,
     "metadata": {},
     "output_type": "execute_result"
    }
   ],
   "source": [
    "acci = np.mean(ypredicted == ytest)\n",
    "acci"
   ]
  },
  {
   "cell_type": "markdown",
   "metadata": {},
   "source": [
    "# 2. logistic regression"
   ]
  },
  {
   "cell_type": "markdown",
   "metadata": {},
   "source": [
    "Because the output(spam for 1, not spam for 0) is incontinous, we use logistic regression model to find the relationship between input and output."
   ]
  },
  {
   "cell_type": "code",
   "execution_count": 487,
   "metadata": {},
   "outputs": [
    {
     "name": "stdout",
     "output_type": "stream",
     "text": [
      "RSS for training is 0.284426 and RSS for testing is 0.362212\n",
      "Accuracy on training data = 0.911818\n"
     ]
    }
   ],
   "source": [
    "Xtrain = dataTrain[:, 0:57]\n",
    "Xtest = dataTest[:, 0:57]\n",
    "regr = linear_model.LogisticRegression(C=77)\n",
    "regr.fit(Xtrain, ytrain)\n",
    "ypred = regr.predict(Xtrain)\n",
    "RSStr = np.mean(((ypred-ytrain)**2)/(np.std(ytrain)**2))\n",
    "ytestpred = regr.predict(Xtest)\n",
    "RSSte = np.mean(((ytestpred-ytest)**2)/(np.std(ytest)**2))\n",
    "print(\"RSS for training is %f and RSS for testing is %f\"%(RSStr,RSSte))\n",
    "acc = np.mean(ytestpred == ytest)\n",
    "print(\"Accuracy on training data = %f\" % acc)"
   ]
  },
  {
   "cell_type": "markdown",
   "metadata": {},
   "source": [
    "After logistic regression using a random parameter C=77,we get RSS which looks a little bit large."
   ]
  },
  {
   "cell_type": "code",
   "execution_count": 488,
   "metadata": {},
   "outputs": [
    {
     "data": {
      "image/png": "[encoded data removed]",
      "text/plain": [
       "<matplotlib.figure.Figure at 0x13b3e6eb8>"
      ]
     },
     "metadata": {},
     "output_type": "display_data"
    }
   ],
   "source": [
    "m=np.squeeze(regr.coef_)\n",
    "plt.stem(m)\n",
    "plt.show()"
   ]
  },
  {
   "cell_type": "markdown",
   "metadata": {},
   "source": [
    "The stem diagram shows that there are almost all coeffients that have a influence on the output. Therefore, next we will get rid of the coeffients that nearly have no influence on the output."
   ]
  },
  {
   "cell_type": "markdown",
   "metadata": {},
   "source": [
    "# 3. Using Ligistic model with cross validation"
   ]
  },
  {
   "cell_type": "code",
   "execution_count": 489,
   "metadata": {},
   "outputs": [
    {
     "name": "stdout",
     "output_type": "stream",
     "text": [
      "Accuracy on the test data is  =  0.9276\n"
     ]
    }
   ],
   "source": [
    "from sklearn.metrics import confusion_matrix\n",
    "from sklearn.model_selection import KFold\n",
    "nfold = 10\n",
    "kf = KFold(n_splits=nfold,shuffle=True)\n",
    "err_rate=np.zeros(nfold)\n",
    "x = data[:,0:57]\n",
    "y=data[:,57]\n",
    "for ifold, Ind in enumerate(kf.split(x)):   \n",
    "    Itr,Its=Ind\n",
    "    Xtr = x[Itr,:]\n",
    "    ytr = y[Itr]\n",
    "    Xts = x[Its,:]\n",
    "    yts = y[Its]\n",
    "    regr.fit(Xtr, ytr)\n",
    "    yhat = regr.predict(Xts)\n",
    "    err_rate[ifold]=np.mean(yhat!=yts)\n",
    "error_mean=np.mean(err_rate)\n",
    "error_se=np.std(err_rate)/np.sqrt(nfold-1)\n",
    "print('Accuracy on the test data is  =  {0:.4f}'.format(1-error_mean))"
   ]
  },
  {
   "cell_type": "markdown",
   "metadata": {},
   "source": [
    "It is obvious that the error rate decreases dramatically after 10 kfold cross validation."
   ]
  },
  {
   "cell_type": "code",
   "execution_count": 490,
   "metadata": {},
   "outputs": [
    {
     "data": {
      "image/png": "[encoded data removed]",
      "text/plain": [
       "<matplotlib.figure.Figure at 0x13bfec780>"
      ]
     },
     "metadata": {},
     "output_type": "display_data"
    }
   ],
   "source": [
    "logreg = linear_model.LogisticRegression(C=77)\n",
    "logreg.fit(x, y)\n",
    "m=logreg.coef_\n",
    "plt.stem(m[0,:])\n",
    "plt.show()"
   ]
  },
  {
   "cell_type": "markdown",
   "metadata": {},
   "source": [
    "Use kfold cross validation to find the optimal C:"
   ]
  },
  {
   "cell_type": "code",
   "execution_count": 491,
   "metadata": {
    "collapsed": true
   },
   "outputs": [],
   "source": [
    "nfold = 10\n",
    "kf = KFold(n_splits=nfold,shuffle=True)\n",
    "err_rate=np.zeros((20,nfold))\n",
    "C_test=np.logspace(-1,3,20)\n",
    "logreg = linear_model.LogisticRegression(penalty='l1',warm_start=True)\n",
    "\n",
    "for ifold, Ind in enumerate(kf.split(x)):   \n",
    "    Itr,Its=Ind\n",
    "    Xtr = x[Itr,:]\n",
    "    ytr = y[Itr]\n",
    "    Xts = x[Its,:]\n",
    "    yts = y[Its]\n",
    "    for ipen,c in enumerate(C_test):\n",
    "        logreg.C=c\n",
    "        logreg.fit(Xtr, ytr)\n",
    "        yhat = logreg.predict(Xts)\n",
    "        err_rate[ipen,ifold]=np.mean(yhat!=yts)"
   ]
  },
  {
   "cell_type": "code",
   "execution_count": 492,
   "metadata": {},
   "outputs": [
    {
     "name": "stdout",
     "output_type": "stream",
     "text": [
      "The minimum error rate is 0.073027 and SE is 0.003652\n"
     ]
    }
   ],
   "source": [
    "error_mean=np.mean(err_rate,axis=1)\n",
    "error_se=np.std(err_rate,axis=1)/np.sqrt(nfold-1)\n",
    "plt.errorbar(np.log10(C_test),error_mean,marker='o',yerr=error_se)\n",
    "imin=np.argmin(error_mean)\n",
    "print(\"The minimum error rate is %f and SE is %f\"%(error_mean[imin],error_se[imin]))"
   ]
  },
  {
   "cell_type": "code",
   "execution_count": 493,
   "metadata": {},
   "outputs": [
    {
     "name": "stdout",
     "output_type": "stream",
     "text": [
      "The selected model order is 0.162378\n"
     ]
    }
   ],
   "source": [
    "err = error_mean[imin] + error_se[imin]\n",
    "iopt = np.where(error_mean < err)[0][0]\n",
    "C_opt = C_test[iopt]\n",
    "print(\"The selected model order is {0:f}\".format(C_opt))"
   ]
  },
  {
   "cell_type": "markdown",
   "metadata": {},
   "source": [
    "Use the optimal C and we get the the best coeffients diagram."
   ]
  },
  {
   "cell_type": "code",
   "execution_count": 494,
   "metadata": {},
   "outputs": [
    {
     "data": {
      "image/png": "[encoded data removed]",
      "text/plain": [
       "<matplotlib.figure.Figure at 0x13c29ed68>"
      ]
     },
     "metadata": {},
     "output_type": "display_data"
    }
   ],
   "source": [
    "logreg = linear_model.LogisticRegression(C=C_opt,penalty='l1')\n",
    "logreg.fit(x, y)\n",
    "W_l1=logreg.coef_\n",
    "plt.stem(W_l1[0,:])\n",
    "plt.show()"
   ]
  },
  {
   "cell_type": "markdown",
   "metadata": {},
   "source": [
    "# 4. Using Neural Network"
   ]
  },
  {
   "cell_type": "markdown",
   "metadata": {},
   "source": [
    "Import all the package we need."
   ]
  },
  {
   "cell_type": "code",
   "execution_count": 495,
   "metadata": {},
   "outputs": [],
   "source": [
    "import keras"
   ]
  },
  {
   "cell_type": "code",
   "execution_count": 496,
   "metadata": {
    "collapsed": true
   },
   "outputs": [],
   "source": [
    "from keras import optimizers\n",
    "from keras.models import Model, Sequential\n",
    "from keras.layers import Dense, Activation"
   ]
  },
  {
   "cell_type": "markdown",
   "metadata": {},
   "source": [
    "Clear session."
   ]
  },
  {
   "cell_type": "code",
   "execution_count": 497,
   "metadata": {
    "collapsed": true
   },
   "outputs": [],
   "source": [
    "keras.backend.clear_session()"
   ]
  },
  {
   "cell_type": "code",
   "execution_count": 498,
   "metadata": {},
   "outputs": [],
   "source": [
    "nh = 20\n",
    "nout = 1\n",
    "input_shape = (57,)\n",
    "model = Sequential()\n",
    "model.add(Dense(nh, input_shape=input_shape,activation='sigmoid',name='hidden'))\n",
    "model.add(Dense(nout,activation='sigmoid',name='output'))"
   ]
  },
  {
   "cell_type": "code",
   "execution_count": 499,
   "metadata": {},
   "outputs": [
    {
     "name": "stdout",
     "output_type": "stream",
     "text": [
      "_________________________________________________________________\n",
      "Layer (type)                 Output Shape              Param #   \n",
      "=================================================================\n",
      "hidden (Dense)               (None, 20)                1160      \n",
      "_________________________________________________________________\n",
      "output (Dense)               (None, 1)                 21        \n",
      "=================================================================\n",
      "Total params: 1,181\n",
      "Trainable params: 1,181\n",
      "Non-trainable params: 0\n",
      "_________________________________________________________________\n"
     ]
    }
   ],
   "source": [
    "model.summary()"
   ]
  },
  {
   "cell_type": "code",
   "execution_count": 500,
   "metadata": {},
   "outputs": [],
   "source": [
    "Xstrain = dataTrain[:, 0:57]\n",
    "Xstest = dataTest[:, 0:57]"
   ]
  },
  {
   "cell_type": "markdown",
   "metadata": {},
   "source": [
    "Compile the model. Select the correct loss function, optimizer and metrics."
   ]
  },
  {
   "cell_type": "code",
   "execution_count": 501,
   "metadata": {},
   "outputs": [
    {
     "name": "stdout",
     "output_type": "stream",
     "text": [
      "Train on 3500 samples, validate on 1100 samples\n",
      "Epoch 1/100\n",
      "3500/3500 [==============================] - 0s - loss: 0.6629 - acc: 0.6023 - val_loss: 0.6210 - val_acc: 0.6791\n",
      "Epoch 2/100\n",
      "3500/3500 [==============================] - 0s - loss: 0.6044 - acc: 0.6723 - val_loss: 0.5894 - val_acc: 0.6700\n",
      "Epoch 3/100\n",
      "3500/3500 [==============================] - 0s - loss: 0.5739 - acc: 0.6774 - val_loss: 0.5649 - val_acc: 0.6809\n",
      "Epoch 4/100\n",
      "3500/3500 [==============================] - 0s - loss: 0.5477 - acc: 0.6874 - val_loss: 0.5352 - val_acc: 0.6945\n",
      "Epoch 5/100\n",
      "3500/3500 [==============================] - 0s - loss: 0.5183 - acc: 0.7074 - val_loss: 0.5041 - val_acc: 0.7200\n",
      "Epoch 6/100\n",
      "3500/3500 [==============================] - 0s - loss: 0.4816 - acc: 0.7731 - val_loss: 0.4724 - val_acc: 0.7836\n",
      "Epoch 7/100\n",
      "3500/3500 [==============================] - 0s - loss: 0.4428 - acc: 0.8094 - val_loss: 0.4327 - val_acc: 0.8073\n",
      "Epoch 8/100\n",
      "3500/3500 [==============================] - 0s - loss: 0.4067 - acc: 0.8306 - val_loss: 0.4056 - val_acc: 0.8155\n",
      "Epoch 9/100\n",
      "3500/3500 [==============================] - 0s - loss: 0.3731 - acc: 0.8551 - val_loss: 0.3748 - val_acc: 0.8573\n",
      "Epoch 10/100\n",
      "3500/3500 [==============================] - 0s - loss: 0.3489 - acc: 0.8674 - val_loss: 0.3538 - val_acc: 0.8691\n",
      "Epoch 11/100\n",
      "3500/3500 [==============================] - 0s - loss: 0.3294 - acc: 0.8791 - val_loss: 0.3305 - val_acc: 0.8764\n",
      "Epoch 12/100\n",
      "3500/3500 [==============================] - 0s - loss: 0.3102 - acc: 0.8891 - val_loss: 0.3144 - val_acc: 0.8864\n",
      "Epoch 13/100\n",
      "3500/3500 [==============================] - 0s - loss: 0.3005 - acc: 0.9000 - val_loss: 0.3051 - val_acc: 0.8864\n",
      "Epoch 14/100\n",
      "3500/3500 [==============================] - 0s - loss: 0.2822 - acc: 0.9089 - val_loss: 0.3010 - val_acc: 0.9118\n",
      "Epoch 15/100\n",
      "3500/3500 [==============================] - 0s - loss: 0.2700 - acc: 0.9160 - val_loss: 0.2814 - val_acc: 0.9055\n",
      "Epoch 16/100\n",
      "3500/3500 [==============================] - 0s - loss: 0.2667 - acc: 0.9074 - val_loss: 0.2783 - val_acc: 0.9009\n",
      "Epoch 17/100\n",
      "3500/3500 [==============================] - 0s - loss: 0.2560 - acc: 0.9146 - val_loss: 0.2630 - val_acc: 0.9100\n",
      "Epoch 18/100\n",
      "3500/3500 [==============================] - 0s - loss: 0.2425 - acc: 0.9177 - val_loss: 0.2598 - val_acc: 0.9145\n",
      "Epoch 19/100\n",
      "3500/3500 [==============================] - 0s - loss: 0.2363 - acc: 0.9226 - val_loss: 0.2509 - val_acc: 0.9045\n",
      "Epoch 20/100\n",
      "3500/3500 [==============================] - 0s - loss: 0.2292 - acc: 0.9240 - val_loss: 0.2488 - val_acc: 0.8973\n",
      "Epoch 21/100\n",
      "3500/3500 [==============================] - 0s - loss: 0.2257 - acc: 0.9266 - val_loss: 0.2381 - val_acc: 0.9055\n",
      "Epoch 22/100\n",
      "3500/3500 [==============================] - 0s - loss: 0.2232 - acc: 0.9249 - val_loss: 0.2355 - val_acc: 0.9182\n",
      "Epoch 23/100\n",
      "3500/3500 [==============================] - 0s - loss: 0.2119 - acc: 0.9303 - val_loss: 0.2291 - val_acc: 0.9191\n",
      "Epoch 24/100\n",
      "3500/3500 [==============================] - 0s - loss: 0.2100 - acc: 0.9306 - val_loss: 0.2325 - val_acc: 0.9018\n",
      "Epoch 25/100\n",
      "3500/3500 [==============================] - 0s - loss: 0.2106 - acc: 0.9306 - val_loss: 0.2261 - val_acc: 0.9109\n",
      "Epoch 26/100\n",
      "3500/3500 [==============================] - 0s - loss: 0.2049 - acc: 0.9309 - val_loss: 0.2231 - val_acc: 0.9191\n",
      "Epoch 27/100\n",
      "3500/3500 [==============================] - 0s - loss: 0.2017 - acc: 0.9311 - val_loss: 0.2251 - val_acc: 0.9209\n",
      "Epoch 28/100\n",
      "3500/3500 [==============================] - 0s - loss: 0.1992 - acc: 0.9340 - val_loss: 0.2191 - val_acc: 0.9191\n",
      "Epoch 29/100\n",
      "3500/3500 [==============================] - 0s - loss: 0.1950 - acc: 0.9354 - val_loss: 0.2156 - val_acc: 0.9209\n",
      "Epoch 30/100\n",
      "3500/3500 [==============================] - 0s - loss: 0.1910 - acc: 0.9389 - val_loss: 0.2180 - val_acc: 0.9218\n",
      "Epoch 31/100\n",
      "3500/3500 [==============================] - 0s - loss: 0.1875 - acc: 0.9357 - val_loss: 0.2196 - val_acc: 0.9182\n",
      "Epoch 32/100\n",
      "3500/3500 [==============================] - 0s - loss: 0.1845 - acc: 0.9363 - val_loss: 0.2065 - val_acc: 0.9200\n",
      "Epoch 33/100\n",
      "3500/3500 [==============================] - 0s - loss: 0.1842 - acc: 0.9380 - val_loss: 0.2124 - val_acc: 0.9227\n",
      "Epoch 34/100\n",
      "3500/3500 [==============================] - 0s - loss: 0.1883 - acc: 0.9363 - val_loss: 0.2134 - val_acc: 0.9245\n",
      "Epoch 35/100\n",
      "3500/3500 [==============================] - 0s - loss: 0.1826 - acc: 0.9386 - val_loss: 0.2020 - val_acc: 0.9236\n",
      "Epoch 36/100\n",
      "3500/3500 [==============================] - 0s - loss: 0.1776 - acc: 0.9389 - val_loss: 0.2066 - val_acc: 0.9145\n",
      "Epoch 37/100\n",
      "3500/3500 [==============================] - 0s - loss: 0.1986 - acc: 0.9294 - val_loss: 0.2107 - val_acc: 0.9182\n",
      "Epoch 38/100\n",
      "3500/3500 [==============================] - 0s - loss: 0.1808 - acc: 0.9357 - val_loss: 0.2062 - val_acc: 0.9264\n",
      "Epoch 39/100\n",
      "3500/3500 [==============================] - 0s - loss: 0.1759 - acc: 0.9400 - val_loss: 0.1983 - val_acc: 0.9227\n",
      "Epoch 40/100\n",
      "3500/3500 [==============================] - 0s - loss: 0.1782 - acc: 0.9380 - val_loss: 0.2132 - val_acc: 0.9245\n",
      "Epoch 41/100\n",
      "3500/3500 [==============================] - 0s - loss: 0.1731 - acc: 0.9414 - val_loss: 0.1953 - val_acc: 0.9309\n",
      "Epoch 42/100\n",
      "3500/3500 [==============================] - 0s - loss: 0.1756 - acc: 0.9380 - val_loss: 0.2069 - val_acc: 0.9264\n",
      "Epoch 43/100\n",
      "3500/3500 [==============================] - 0s - loss: 0.1753 - acc: 0.9403 - val_loss: 0.1907 - val_acc: 0.9255\n",
      "Epoch 44/100\n",
      "3500/3500 [==============================] - 0s - loss: 0.1709 - acc: 0.9394 - val_loss: 0.1970 - val_acc: 0.9264\n",
      "Epoch 45/100\n",
      "3500/3500 [==============================] - 0s - loss: 0.1679 - acc: 0.9411 - val_loss: 0.1929 - val_acc: 0.9300\n",
      "Epoch 46/100\n",
      "3500/3500 [==============================] - 0s - loss: 0.1677 - acc: 0.9431 - val_loss: 0.1876 - val_acc: 0.9273\n",
      "Epoch 47/100\n",
      "3500/3500 [==============================] - 0s - loss: 0.1651 - acc: 0.9420 - val_loss: 0.1884 - val_acc: 0.9291\n",
      "Epoch 48/100\n",
      "3500/3500 [==============================] - 0s - loss: 0.1654 - acc: 0.9437 - val_loss: 0.1872 - val_acc: 0.9300\n",
      "Epoch 49/100\n",
      "3500/3500 [==============================] - 0s - loss: 0.1627 - acc: 0.9434 - val_loss: 0.1855 - val_acc: 0.9309\n",
      "Epoch 50/100\n",
      "3500/3500 [==============================] - 0s - loss: 0.1650 - acc: 0.9429 - val_loss: 0.1900 - val_acc: 0.9264\n",
      "Epoch 51/100\n",
      "3500/3500 [==============================] - 0s - loss: 0.1668 - acc: 0.9426 - val_loss: 0.1841 - val_acc: 0.9327\n",
      "Epoch 52/100\n",
      "3500/3500 [==============================] - 0s - loss: 0.1617 - acc: 0.9446 - val_loss: 0.1859 - val_acc: 0.9291\n",
      "Epoch 53/100\n",
      "3500/3500 [==============================] - 0s - loss: 0.1616 - acc: 0.9434 - val_loss: 0.1844 - val_acc: 0.9327\n",
      "Epoch 54/100\n",
      "3500/3500 [==============================] - 0s - loss: 0.1667 - acc: 0.9403 - val_loss: 0.1894 - val_acc: 0.9300\n",
      "Epoch 55/100\n",
      "3500/3500 [==============================] - 0s - loss: 0.1642 - acc: 0.9437 - val_loss: 0.1860 - val_acc: 0.9291\n",
      "Epoch 56/100\n",
      "3500/3500 [==============================] - 0s - loss: 0.1570 - acc: 0.9469 - val_loss: 0.1792 - val_acc: 0.9318\n",
      "Epoch 57/100\n",
      "3500/3500 [==============================] - 0s - loss: 0.1591 - acc: 0.9429 - val_loss: 0.1929 - val_acc: 0.9273\n",
      "Epoch 58/100\n",
      "3500/3500 [==============================] - 0s - loss: 0.1567 - acc: 0.9449 - val_loss: 0.1808 - val_acc: 0.9300\n",
      "Epoch 59/100\n",
      "3500/3500 [==============================] - 0s - loss: 0.1587 - acc: 0.9463 - val_loss: 0.1784 - val_acc: 0.9300\n",
      "Epoch 60/100\n",
      "3500/3500 [==============================] - 0s - loss: 0.1547 - acc: 0.9480 - val_loss: 0.1803 - val_acc: 0.9309\n",
      "Epoch 61/100\n",
      "3500/3500 [==============================] - 0s - loss: 0.1514 - acc: 0.9477 - val_loss: 0.1796 - val_acc: 0.9318\n",
      "Epoch 62/100\n",
      "3500/3500 [==============================] - 0s - loss: 0.1533 - acc: 0.9474 - val_loss: 0.1778 - val_acc: 0.9327\n",
      "Epoch 63/100\n",
      "3500/3500 [==============================] - 0s - loss: 0.1518 - acc: 0.9477 - val_loss: 0.1778 - val_acc: 0.9327\n",
      "Epoch 64/100\n",
      "3500/3500 [==============================] - 0s - loss: 0.1577 - acc: 0.9466 - val_loss: 0.1846 - val_acc: 0.9318\n",
      "Epoch 65/100\n"
     ]
    },
    {
     "name": "stdout",
     "output_type": "stream",
     "text": [
      "3500/3500 [==============================] - 0s - loss: 0.1552 - acc: 0.9451 - val_loss: 0.1792 - val_acc: 0.9309\n",
      "Epoch 66/100\n",
      "3500/3500 [==============================] - 0s - loss: 0.1531 - acc: 0.9460 - val_loss: 0.1773 - val_acc: 0.9318\n",
      "Epoch 67/100\n",
      "3500/3500 [==============================] - 0s - loss: 0.1537 - acc: 0.9446 - val_loss: 0.1786 - val_acc: 0.9300\n",
      "Epoch 68/100\n",
      "3500/3500 [==============================] - 0s - loss: 0.1568 - acc: 0.9440 - val_loss: 0.1790 - val_acc: 0.9327\n",
      "Epoch 69/100\n",
      "3500/3500 [==============================] - 0s - loss: 0.1494 - acc: 0.9483 - val_loss: 0.1880 - val_acc: 0.9309\n",
      "Epoch 70/100\n",
      "3500/3500 [==============================] - 0s - loss: 0.1508 - acc: 0.9474 - val_loss: 0.1816 - val_acc: 0.9318\n",
      "Epoch 71/100\n",
      "3500/3500 [==============================] - 0s - loss: 0.1520 - acc: 0.9454 - val_loss: 0.1754 - val_acc: 0.9309\n",
      "Epoch 72/100\n",
      "3500/3500 [==============================] - 0s - loss: 0.1556 - acc: 0.9446 - val_loss: 0.1918 - val_acc: 0.9291\n",
      "Epoch 73/100\n",
      "3500/3500 [==============================] - 0s - loss: 0.1506 - acc: 0.9463 - val_loss: 0.1795 - val_acc: 0.9318\n",
      "Epoch 74/100\n",
      "3500/3500 [==============================] - 0s - loss: 0.1548 - acc: 0.9460 - val_loss: 0.1942 - val_acc: 0.9282\n",
      "Epoch 75/100\n",
      "3500/3500 [==============================] - 0s - loss: 0.1510 - acc: 0.9471 - val_loss: 0.1818 - val_acc: 0.9300\n",
      "Epoch 76/100\n",
      "3500/3500 [==============================] - 0s - loss: 0.1477 - acc: 0.9477 - val_loss: 0.1867 - val_acc: 0.9318\n",
      "Epoch 77/100\n",
      "3500/3500 [==============================] - 0s - loss: 0.1467 - acc: 0.9460 - val_loss: 0.1750 - val_acc: 0.9345\n",
      "Epoch 78/100\n",
      "3500/3500 [==============================] - 0s - loss: 0.1455 - acc: 0.9477 - val_loss: 0.1773 - val_acc: 0.9355\n",
      "Epoch 79/100\n",
      "3500/3500 [==============================] - 0s - loss: 0.1496 - acc: 0.9463 - val_loss: 0.1816 - val_acc: 0.9364\n",
      "Epoch 80/100\n",
      "3500/3500 [==============================] - 0s - loss: 0.1517 - acc: 0.9463 - val_loss: 0.1747 - val_acc: 0.9382\n",
      "Epoch 81/100\n",
      "3500/3500 [==============================] - 0s - loss: 0.1479 - acc: 0.9477 - val_loss: 0.1772 - val_acc: 0.9373\n",
      "Epoch 82/100\n",
      "3500/3500 [==============================] - 0s - loss: 0.1554 - acc: 0.9451 - val_loss: 0.1803 - val_acc: 0.9336\n",
      "Epoch 83/100\n",
      "3500/3500 [==============================] - 0s - loss: 0.1516 - acc: 0.9434 - val_loss: 0.1770 - val_acc: 0.9364\n",
      "Epoch 84/100\n",
      "3500/3500 [==============================] - 0s - loss: 0.1484 - acc: 0.9466 - val_loss: 0.1768 - val_acc: 0.9364\n",
      "Epoch 85/100\n",
      "3500/3500 [==============================] - 0s - loss: 0.1459 - acc: 0.9483 - val_loss: 0.1839 - val_acc: 0.9309\n",
      "Epoch 86/100\n",
      "3500/3500 [==============================] - 0s - loss: 0.1482 - acc: 0.9474 - val_loss: 0.1773 - val_acc: 0.9391\n",
      "Epoch 87/100\n",
      "3500/3500 [==============================] - 0s - loss: 0.1438 - acc: 0.9509 - val_loss: 0.1743 - val_acc: 0.9382\n",
      "Epoch 88/100\n",
      "3500/3500 [==============================] - 0s - loss: 0.1450 - acc: 0.9477 - val_loss: 0.1754 - val_acc: 0.9373\n",
      "Epoch 89/100\n",
      "3500/3500 [==============================] - 0s - loss: 0.1426 - acc: 0.9520 - val_loss: 0.1720 - val_acc: 0.9382\n",
      "Epoch 90/100\n",
      "3500/3500 [==============================] - 0s - loss: 0.1410 - acc: 0.9503 - val_loss: 0.1721 - val_acc: 0.9373\n",
      "Epoch 91/100\n",
      "3500/3500 [==============================] - 0s - loss: 0.1416 - acc: 0.9520 - val_loss: 0.1727 - val_acc: 0.9391\n",
      "Epoch 92/100\n",
      "3500/3500 [==============================] - 0s - loss: 0.1387 - acc: 0.9514 - val_loss: 0.1748 - val_acc: 0.9382\n",
      "Epoch 93/100\n",
      "3500/3500 [==============================] - 0s - loss: 0.1443 - acc: 0.9474 - val_loss: 0.1749 - val_acc: 0.9400\n",
      "Epoch 94/100\n",
      "3500/3500 [==============================] - 0s - loss: 0.1436 - acc: 0.9497 - val_loss: 0.1727 - val_acc: 0.9391\n",
      "Epoch 95/100\n",
      "3500/3500 [==============================] - 0s - loss: 0.1422 - acc: 0.9494 - val_loss: 0.1829 - val_acc: 0.9336\n",
      "Epoch 96/100\n",
      "3500/3500 [==============================] - 0s - loss: 0.1424 - acc: 0.9500 - val_loss: 0.1712 - val_acc: 0.9382\n",
      "Epoch 97/100\n",
      "3500/3500 [==============================] - 0s - loss: 0.1405 - acc: 0.9506 - val_loss: 0.1733 - val_acc: 0.9373\n",
      "Epoch 98/100\n",
      "3500/3500 [==============================] - 0s - loss: 0.1417 - acc: 0.9506 - val_loss: 0.1729 - val_acc: 0.9382\n",
      "Epoch 99/100\n",
      "3500/3500 [==============================] - 0s - loss: 0.1425 - acc: 0.9497 - val_loss: 0.1734 - val_acc: 0.9400\n",
      "Epoch 100/100\n",
      "3500/3500 [==============================] - 0s - loss: 0.1427 - acc: 0.9489 - val_loss: 0.1745 - val_acc: 0.9391\n"
     ]
    },
    {
     "data": {
      "text/plain": [
       "<keras.callbacks.History at 0x1333c8550>"
      ]
     },
     "execution_count": 501,
     "metadata": {},
     "output_type": "execute_result"
    }
   ],
   "source": [
    "opt = optimizers.Adam(lr=0.001, beta_1=0.9, beta_2=0.999, epsilon=1e-08, decay=0.0)\n",
    "model.compile(optimizer=opt, loss='binary_crossentropy', metrics=['accuracy'])\n",
    "model.fit(Xstrain, ytrain, epochs=100, batch_size=100, validation_data=(Xstest,ytest))"
   ]
  },
  {
   "cell_type": "markdown",
   "metadata": {},
   "source": [
    "Get the predicted result of both train and test data"
   ]
  },
  {
   "cell_type": "code",
   "execution_count": 502,
   "metadata": {},
   "outputs": [
    {
     "name": "stdout",
     "output_type": "stream",
     "text": [
      "Normalized RSS training = 0.157740\n",
      "Normalized RSS test = 0.198617\n"
     ]
    }
   ],
   "source": [
    "y_tr_predicted = np.squeeze(model.predict(Xstrain))\n",
    "RSStrain = np.mean(((y_tr_predicted-ytrain)**2)/(np.std(ytrain)**2))\n",
    "print(\"Normalized RSS training = {0:f}\".format(RSStrain))\n",
    "y_ts_predicted = np.squeeze(model.predict(Xstest))\n",
    "RSStest = np.mean(((y_ts_predicted-ytest)**2)/(np.std(ytest)**2))\n",
    "print(\"Normalized RSS test = {0:f}\".format(RSStest))"
   ]
  },
  {
   "cell_type": "markdown",
   "metadata": {},
   "source": [
    "Since the result from the prediction of model is of format float, we have to convert it to binary number. We set the threshold of 0.5, and value greater than 0.5 can be seen as 1."
   ]
  },
  {
   "cell_type": "code",
   "execution_count": 503,
   "metadata": {},
   "outputs": [
    {
     "name": "stdout",
     "output_type": "stream",
     "text": [
      "Accuracy of train set data is 0.952571\n",
      "Accuracy of test set data is 0.939091\n"
     ]
    }
   ],
   "source": [
    "for i in range(len(y_tr_predicted)):\n",
    "    if y_tr_predicted[i] > 0.5:\n",
    "        y_tr_predicted[i] = 1\n",
    "    else :\n",
    "        y_tr_predicted[i] = 0\n",
    "for i in range(len(y_ts_predicted)):\n",
    "    if y_ts_predicted[i] > 0.5:\n",
    "        y_ts_predicted[i] = 1\n",
    "    else :\n",
    "        y_ts_predicted[i] = 0\n",
    "acctrain = np.mean(y_tr_predicted == ytrain)\n",
    "acctest = np.mean(y_ts_predicted == ytest)\n",
    "print(\"Accuracy of train set data is {0:f}\".format(acctrain))\n",
    "print(\"Accuracy of test set data is {0:f}\".format(acctest))"
   ]
  },
  {
   "cell_type": "markdown",
   "metadata": {},
   "source": [
    "Take arbitratry 100 examples, scatter the true value and predicted value, from the graph below, blue spot means correctly matched, red spot means wrong prediction."
   ]
  },
  {
   "cell_type": "code",
   "execution_count": 504,
   "metadata": {},
   "outputs": [
    {
     "data": {
      "image/png": "[encoded data removed]",
      "text/plain": [
       "<matplotlib.figure.Figure at 0x134c6b8d0>"
      ]
     },
     "metadata": {},
     "output_type": "display_data"
    }
   ],
   "source": [
    "xaxis = np.linspace(1,100,100)\n",
    "plt.scatter(xaxis, ytest[200:300], color = 'r')\n",
    "plt.scatter(xaxis, y_ts_predicted[200:300], color = 'b')\n",
    "plt.show()"
   ]
  },
  {
   "cell_type": "code",
   "execution_count": null,
   "metadata": {
    "collapsed": true
   },
   "outputs": [],
   "source": []
  }
 ],
 "metadata": {
  "kernelspec": {
   "display_name": "Python 3",
   "language": "python",
   "name": "python3"
  },
  "language_info": {
   "codemirror_mode": {
    "name": "ipython",
    "version": 3
   },
   "file_extension": ".py",
   "mimetype": "text/x-python",
   "name": "python",
   "nbconvert_exporter": "python",
   "pygments_lexer": "ipython3",
   "version": "3.6.1"
  }
 },
 "nbformat": 4,
 "nbformat_minor": 2
}
